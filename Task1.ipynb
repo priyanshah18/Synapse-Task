{
 "cells": [
  {
   "cell_type": "code",
   "execution_count": 5,
   "id": "aeb6297e",
   "metadata": {},
   "outputs": [],
   "source": [
    "import cv2\n",
    "\n",
    "\n",
    "pic = cv2.imread(\"rectangles.png\")\n",
    "main_pic = pic\n",
    "\n",
    "gray= cv2.cvtColor(pic,cv2.COLOR_BGR2GRAY)\n",
    "\n",
    "edges= cv2.Canny(gray, 50,200)\n",
    "\n",
    "contours,hierarchy= cv2.findContours(edges, cv2.RETR_EXTERNAL, cv2.CHAIN_APPROX_NONE)\n",
    "\n",
    "\n",
    "# def get_contour_areas(contours):\n",
    "\n",
    "#     all_areas= []\n",
    "\n",
    "#     for cnt in contours:\n",
    "#         area= cv2.contourArea(cnt)\n",
    "#         all_areas.append(area)\n",
    "\n",
    "#     return all_areas\n",
    "\n",
    "\n",
    "sorted_contours= sorted(contours, key=cv2.contourArea, reverse= True)\n",
    "\n",
    "\n",
    "largest_rec= sorted_contours[0]\n",
    "\n",
    "cv2.drawContours(main_pic, largest_rec, -1, (255,0,0),10)\n",
    "cv2.imshow('Largest Rectangle', main_pic)\n",
    "\n",
    "\n",
    "cv2.waitKey(0)\n",
    "cv2.destroyAllWindows()\n"
   ]
  },
  {
   "cell_type": "code",
   "execution_count": 4,
   "id": "069a4057",
   "metadata": {},
   "outputs": [],
   "source": []
  },
  {
   "cell_type": "code",
   "execution_count": null,
   "id": "591cb0ee",
   "metadata": {},
   "outputs": [],
   "source": []
  },
  {
   "cell_type": "code",
   "execution_count": null,
   "id": "0711896a",
   "metadata": {},
   "outputs": [],
   "source": []
  },
  {
   "cell_type": "code",
   "execution_count": null,
   "id": "1d6b37ab",
   "metadata": {},
   "outputs": [],
   "source": []
  }
 ],
 "metadata": {
  "kernelspec": {
   "display_name": "Python 3",
   "language": "python",
   "name": "python3"
  },
  "language_info": {
   "codemirror_mode": {
    "name": "ipython",
    "version": 3
   },
   "file_extension": ".py",
   "mimetype": "text/x-python",
   "name": "python",
   "nbconvert_exporter": "python",
   "pygments_lexer": "ipython3",
   "version": "3.8.8"
  }
 },
 "nbformat": 4,
 "nbformat_minor": 5
}
